{
 "cells": [
  {
   "cell_type": "markdown",
   "metadata": {},
   "source": [
    "# Regression Lab\n",
    "\n",
    "Now have all the necessary functions to calculate the slope, intercept, best-fit line, prediction and visualizations. In this lab you will put them all together to run a regression experiment and calculate model loss. \n",
    "\n",
    "## SWBAT\n",
    "\n",
    "* Run a complete regression analysis through code only. "
   ]
  },
  {
   "cell_type": "markdown",
   "metadata": {},
   "source": [
    "## Here are all the formulas to put everything in perspective\n",
    "\n",
    "#### Slope\n",
    "<img src=\"m.png\" width = 300>\n",
    "\n",
    "#### Intercept \n",
    "<img src=\"b.png\" width = 200>\n",
    "\n",
    "#### R-squared\n",
    "<img src=\"r2.png\" width = 400>\n",
    "\n",
    "#### Prediction\n",
    "![](pred.jpg)\n",
    "\n",
    "\n",
    "Use the functions created earlier to implement these formulas to run a regression analysis using X and Y as input variables. "
   ]
  },
  {
   "cell_type": "code",
   "execution_count": 11,
   "metadata": {},
   "outputs": [
    {
     "data": {
      "text/plain": [
       "0.9715335169880626"
      ]
     },
     "execution_count": 11,
     "metadata": {},
     "output_type": "execute_result"
    }
   ],
   "source": [
    "# Combine all the functions created so far to run a complete regression experiment. \n",
    "# Produce an output similar to the one shown below. \n",
    "\n",
    "# Import libraries\n",
    "\n",
    "import numpy as np\n",
    "import matplotlib.pyplot as plt\n",
    "from matplotlib import style\n",
    "style.use('ggplot')\n",
    "\n",
    "X = np.array([1,2,3,4,5,6,7,8,9,10], dtype=np.float64)\n",
    "Y = np.array([7,7,8,9,9,10,10,11,11,12], dtype=np.float64)\n",
    "\n",
    "# Write function to calculate the slope, calc_slope()\n",
    "\n",
    "def calc_slope(xs,ys):\n",
    "    \n",
    "    m = ((np.mean(xs) * np.mean(ys)) - np.mean(xs*ys)) / (np.mean(xs)**2 - np.mean(xs*xs))\n",
    "    return m\n",
    "\n",
    "# calc_slope(X,Y)\n",
    "\n",
    "# Write function to calculate the intercept, best_fit()\n",
    "\n",
    "def best_fit(xs,ys):\n",
    "    \n",
    "    m = calc_slope(xs,ys)\n",
    "    b = np.mean(ys) - (m*np.mean(xs))\n",
    "    \n",
    "    return m,b\n",
    "\n",
    "# m, b = best_fit(X,Y)\n",
    "# m,b\n",
    "\n",
    "# Write function to calculate the regression line, reg_line()\n",
    "\n",
    "def reg_line (m, b, xs):\n",
    "    \n",
    "    return [(m*x) + b for x in xs]\n",
    "\n",
    "# regression_line = reg_line(m,b,X)\n",
    "\n",
    "# Start code for getting to R-squared\n",
    "# Write function to calculate sum of squared errors\n",
    "# ys_a = regression line\n",
    "# ys_b = mean line\n",
    "\n",
    "def sq_err(ys_a, ys_b):\n",
    "    \n",
    "    squared_error = 0\n",
    "    for x in range(0,len(ys_a)):\n",
    "        squared_error += (ys_a[x] - ys_b[x])**2\n",
    "    return squared_error\n",
    "\n",
    "sq_err(regression_line, Y)\n",
    "\n",
    "# Write function to calculate R-squared, r_squared()\n",
    "\n",
    "def r_squared(ys_real, ys_predicted):\n",
    "    \n",
    "    sse = sq_err(ys_real, ys_predicted)    # calculate the numerator\n",
    "    sst = 0                                # set to 0 to append/add onto for sum of squares total\n",
    "    for x in ys_real:\n",
    "        sst += (x - ys_real.mean())**2\n",
    "    return 1 - (sse/sst)                   # r squared calculation\n",
    "\n",
    "# r_squared(Y, regression_line)\n"
   ]
  },
  {
   "cell_type": "code",
   "execution_count": 25,
   "metadata": {},
   "outputs": [
    {
     "name": "stdout",
     "output_type": "stream",
     "text": [
      "Basic Regression Diagnostics\n",
      "----------------------------\n",
      "Slope:  0.56\n",
      "Y-Intercept:  6.33\n",
      "R-Squared:  0.97\n",
      "----------------------------\n",
      "Model: Y =  0.56  * X +  6.33\n"
     ]
    },
    {
     "data": {
      "image/png": "[encoded data removed]",
      "text/plain": [
       "<Figure size 432x288 with 1 Axes>"
      ]
     },
     "metadata": {},
     "output_type": "display_data"
    }
   ],
   "source": [
    "print(\"Basic Regression Diagnostics\")\n",
    "print(\"----------------------------\")\n",
    "print(\"Slope: \", np.round(m,2))\n",
    "print(\"Y-Intercept: \", np.round(b,2))\n",
    "print(\"R-Squared: \", np.round(r_squared(Y,regression_line),2))\n",
    "print(\"----------------------------\")\n",
    "print(\"Model: Y = \", np.round(m,2),\" * X + \",np.round(b,2))\n",
    "\n",
    "plt.scatter(X,Y,color='#003F72', label=\"Data Points\")  # plot the x & y vectors\n",
    "plt.plot(X, regression_line, label= \"Regression Line\") # plot the regression line\n",
    "plt.legend(loc=4)\n",
    "plt.show()"
   ]
  },
  {
   "cell_type": "code",
   "execution_count": 70,
   "metadata": {},
   "outputs": [
    {
     "name": "stdout",
     "output_type": "stream",
     "text": [
      "Basic Regression Diagnostics\n",
      "----------------------------\n",
      "Slope: 0.56\n",
      "Y-Intercept: 6.33\n",
      "R-Squared: 0.97\n",
      "----------------------------\n",
      "Model: Y = 0.56 * X + 6.33\n"
     ]
    },
    {
     "data": {
      "image/png": "[encoded data removed]",
      "text/plain": [
       "<matplotlib.figure.Figure at 0x1a180b14a8>"
      ]
     },
     "metadata": {},
     "output_type": "display_data"
    }
   ],
   "source": [
    "# Basic Regression Diagnostics\n",
    "# ----------------------------\n",
    "# Slope: 0.56\n",
    "# Y-Intercept: 6.33\n",
    "# R-Squared: 0.97\n",
    "# ----------------------------\n",
    "# Model: Y = 0.56 * X + 6.33"
   ]
  },
  {
   "cell_type": "markdown",
   "metadata": {},
   "source": [
    "## Make Predictions\n",
    "\n",
    "Predict and plot the value of y using regression line above for a new value of x = 4.5."
   ]
  },
  {
   "cell_type": "code",
   "execution_count": 22,
   "metadata": {},
   "outputs": [
    {
     "data": {
      "text/plain": [
       "8.842424242424244"
      ]
     },
     "execution_count": 22,
     "metadata": {},
     "output_type": "execute_result"
    }
   ],
   "source": [
    "# Make prediction using given value and visualize on the scatter plot\n",
    "x_new = 4.5\n",
    "y_predicted = m*x_new + b\n",
    "y_predicted"
   ]
  },
  {
   "cell_type": "code",
   "execution_count": 23,
   "metadata": {},
   "outputs": [
    {
     "data": {
      "image/png": "[encoded data removed]",
      "text/plain": [
       "<Figure size 432x288 with 1 Axes>"
      ]
     },
     "metadata": {},
     "output_type": "display_data"
    }
   ],
   "source": [
    "plt.scatter(X,Y,color='#003F72', label=\"Data Points\")  # plot the x & y vectors\n",
    "plt.plot(X, regression_line, label= \"Regression Line\") # plot the regression line\n",
    "plt.scatter(x_new, y_predicted, color='r', label='Prediction: '+ str(np.round(y_predicted,1)))\n",
    "plt.legend(loc=4)\n",
    "plt.show()"
   ]
  },
  {
   "cell_type": "markdown",
   "metadata": {},
   "source": [
    "## Level up - Optional \n",
    "Load the \"heightWeight.csv\" dataset. Use the height as an independant and weight as a dependant variable and draw a regression line to data using your code above. Calculate your R-square for the model and try to predict new values of Y. "
   ]
  },
  {
   "cell_type": "markdown",
   "metadata": {},
   "source": [
    "## Summary\n",
    "\n",
    "In this lab, we ran a complete simple regression analysis experiment using functions created so far. Next We shall see how we can use python's built in modules to perform such analyses with a much higher level of sophistication. "
   ]
  },
  {
   "cell_type": "code",
   "execution_count": null,
   "metadata": {},
   "outputs": [],
   "source": []
  }
 ],
 "metadata": {
  "kernelspec": {
   "display_name": "Python 3",
   "language": "python",
   "name": "python3"
  },
  "language_info": {
   "codemirror_mode": {
    "name": "ipython",
    "version": 3
   },
   "file_extension": ".py",
   "mimetype": "text/x-python",
   "name": "python",
   "nbconvert_exporter": "python",
   "pygments_lexer": "ipython3",
   "version": "3.7.0"
  }
 },
 "nbformat": 4,
 "nbformat_minor": 2
}
